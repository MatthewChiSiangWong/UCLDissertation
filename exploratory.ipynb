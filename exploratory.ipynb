{
 "cells": [
  {
   "cell_type": "markdown",
   "metadata": {},
   "source": [
    "# Exploratory Notebook\n",
    "\n",
    "Dataset: Consists of information on the roles posted.\n",
    "Student: Matthew CS Wong.\n",
    "\n",
    "Objective of the project is to produce a model which can give the likelihood that a certain amount of shifts are available given role, location and date/time of shifts.\n",
    "\n",
    "Process of Notebook: Cleansing, Defining Questions, Visualisation."
   ]
  },
  {
   "cell_type": "markdown",
   "metadata": {},
   "source": [
    "### 1. Importing Python packages"
   ]
  },
  {
   "cell_type": "code",
   "execution_count": 1,
   "metadata": {},
   "outputs": [],
   "source": [
    "import pandas as pd #provides high-performance, easy-to-use data structures and data analysis tools\n",
    "import numpy as np #fundamental package for scientific computing with Python\n",
    "import seaborn as sns #Python data visualisation library based on matplotlib\n",
    "import matplotlib.pyplot as plt #2D plotting library\n",
    "\n",
    "from datetime import datetime"
   ]
  },
  {
   "cell_type": "markdown",
   "metadata": {},
   "source": [
    "### 2. Loading Data"
   ]
  },
  {
   "cell_type": "code",
   "execution_count": 2,
   "metadata": {},
   "outputs": [
    {
     "name": "stdout",
     "output_type": "stream",
     "text": [
      "(134642, 26)\n",
      "(28, 10)\n"
     ]
    }
   ],
   "source": [
    "jobs_df = pd.read_excel('data (40)_updatedV1.xlsx') #contains all the entries\n",
    "roles_df = pd.read_excel('data (39)_updatedV1.xlsx') #contains the description of the roles\n",
    "print(jobs_df.shape)\n",
    "print(roles_df.shape)"
   ]
  },
  {
   "cell_type": "code",
   "execution_count": 3,
   "metadata": {
    "scrolled": true
   },
   "outputs": [
    {
     "data": {
      "text/html": [
       "<div>\n",
       "<style scoped>\n",
       "    .dataframe tbody tr th:only-of-type {\n",
       "        vertical-align: middle;\n",
       "    }\n",
       "\n",
       "    .dataframe tbody tr th {\n",
       "        vertical-align: top;\n",
       "    }\n",
       "\n",
       "    .dataframe thead th {\n",
       "        text-align: right;\n",
       "    }\n",
       "</style>\n",
       "<table border=\"1\" class=\"dataframe\">\n",
       "  <thead>\n",
       "    <tr style=\"text-align: right;\">\n",
       "      <th></th>\n",
       "      <th>area_id</th>\n",
       "      <th>bookable_individually</th>\n",
       "      <th>break_duration</th>\n",
       "      <th>created_at</th>\n",
       "      <th>deleted_at</th>\n",
       "      <th>employer_id</th>\n",
       "      <th>end_time</th>\n",
       "      <th>filled_spots</th>\n",
       "      <th>health_and_safety_information</th>\n",
       "      <th>id</th>\n",
       "      <th>...</th>\n",
       "      <th>purchase_order_number</th>\n",
       "      <th>rated</th>\n",
       "      <th>role_id</th>\n",
       "      <th>stage</th>\n",
       "      <th>start_time</th>\n",
       "      <th>timesheet_approval_needed</th>\n",
       "      <th>total_spots</th>\n",
       "      <th>v1_job_id</th>\n",
       "      <th>v1_shift_group_ids</th>\n",
       "      <th>workers_required</th>\n",
       "    </tr>\n",
       "  </thead>\n",
       "  <tbody>\n",
       "    <tr>\n",
       "      <th>0</th>\n",
       "      <td>NaN</td>\n",
       "      <td>False</td>\n",
       "      <td>0</td>\n",
       "      <td>2015-10-22 14:07:14.213</td>\n",
       "      <td>NaT</td>\n",
       "      <td>39</td>\n",
       "      <td>2015-10-26</td>\n",
       "      <td>0</td>\n",
       "      <td>NaN</td>\n",
       "      <td>6</td>\n",
       "      <td>...</td>\n",
       "      <td>NaN</td>\n",
       "      <td>True</td>\n",
       "      <td>30</td>\n",
       "      <td>3.0</td>\n",
       "      <td>2015-10-25 17:00:00</td>\n",
       "      <td>False</td>\n",
       "      <td>1</td>\n",
       "      <td>6.0</td>\n",
       "      <td>{10}</td>\n",
       "      <td>1</td>\n",
       "    </tr>\n",
       "    <tr>\n",
       "      <th>1</th>\n",
       "      <td>NaN</td>\n",
       "      <td>False</td>\n",
       "      <td>0</td>\n",
       "      <td>2015-10-22 14:08:48.880</td>\n",
       "      <td>NaT</td>\n",
       "      <td>39</td>\n",
       "      <td>2015-10-26</td>\n",
       "      <td>0</td>\n",
       "      <td>NaN</td>\n",
       "      <td>7</td>\n",
       "      <td>...</td>\n",
       "      <td>NaN</td>\n",
       "      <td>True</td>\n",
       "      <td>30</td>\n",
       "      <td>3.0</td>\n",
       "      <td>2015-10-25 17:00:00</td>\n",
       "      <td>False</td>\n",
       "      <td>1</td>\n",
       "      <td>7.0</td>\n",
       "      <td>{11}</td>\n",
       "      <td>1</td>\n",
       "    </tr>\n",
       "    <tr>\n",
       "      <th>2</th>\n",
       "      <td>NaN</td>\n",
       "      <td>False</td>\n",
       "      <td>0</td>\n",
       "      <td>2015-10-22 14:10:16.920</td>\n",
       "      <td>NaT</td>\n",
       "      <td>39</td>\n",
       "      <td>2015-10-26</td>\n",
       "      <td>1</td>\n",
       "      <td>NaN</td>\n",
       "      <td>8</td>\n",
       "      <td>...</td>\n",
       "      <td>NaN</td>\n",
       "      <td>True</td>\n",
       "      <td>30</td>\n",
       "      <td>3.0</td>\n",
       "      <td>2015-10-25 17:00:00</td>\n",
       "      <td>False</td>\n",
       "      <td>1</td>\n",
       "      <td>8.0</td>\n",
       "      <td>{12}</td>\n",
       "      <td>1</td>\n",
       "    </tr>\n",
       "    <tr>\n",
       "      <th>3</th>\n",
       "      <td>NaN</td>\n",
       "      <td>False</td>\n",
       "      <td>0</td>\n",
       "      <td>2015-10-27 10:02:46.500</td>\n",
       "      <td>NaT</td>\n",
       "      <td>39</td>\n",
       "      <td>2015-11-01</td>\n",
       "      <td>1</td>\n",
       "      <td>NaN</td>\n",
       "      <td>12</td>\n",
       "      <td>...</td>\n",
       "      <td>NaN</td>\n",
       "      <td>True</td>\n",
       "      <td>30</td>\n",
       "      <td>3.0</td>\n",
       "      <td>2015-10-31 18:30:00</td>\n",
       "      <td>False</td>\n",
       "      <td>1</td>\n",
       "      <td>12.0</td>\n",
       "      <td>{17}</td>\n",
       "      <td>1</td>\n",
       "    </tr>\n",
       "    <tr>\n",
       "      <th>4</th>\n",
       "      <td>NaN</td>\n",
       "      <td>False</td>\n",
       "      <td>0</td>\n",
       "      <td>2015-10-27 10:05:35.850</td>\n",
       "      <td>NaT</td>\n",
       "      <td>39</td>\n",
       "      <td>2015-11-01</td>\n",
       "      <td>1</td>\n",
       "      <td>NaN</td>\n",
       "      <td>13</td>\n",
       "      <td>...</td>\n",
       "      <td>NaN</td>\n",
       "      <td>True</td>\n",
       "      <td>30</td>\n",
       "      <td>3.0</td>\n",
       "      <td>2015-10-31 18:30:00</td>\n",
       "      <td>False</td>\n",
       "      <td>1</td>\n",
       "      <td>13.0</td>\n",
       "      <td>{18}</td>\n",
       "      <td>1</td>\n",
       "    </tr>\n",
       "  </tbody>\n",
       "</table>\n",
       "<p>5 rows × 26 columns</p>\n",
       "</div>"
      ],
      "text/plain": [
       "   area_id  bookable_individually  break_duration              created_at  \\\n",
       "0      NaN                  False               0 2015-10-22 14:07:14.213   \n",
       "1      NaN                  False               0 2015-10-22 14:08:48.880   \n",
       "2      NaN                  False               0 2015-10-22 14:10:16.920   \n",
       "3      NaN                  False               0 2015-10-27 10:02:46.500   \n",
       "4      NaN                  False               0 2015-10-27 10:05:35.850   \n",
       "\n",
       "  deleted_at  employer_id   end_time  filled_spots  \\\n",
       "0        NaT           39 2015-10-26             0   \n",
       "1        NaT           39 2015-10-26             0   \n",
       "2        NaT           39 2015-10-26             1   \n",
       "3        NaT           39 2015-11-01             1   \n",
       "4        NaT           39 2015-11-01             1   \n",
       "\n",
       "  health_and_safety_information  id        ...         purchase_order_number  \\\n",
       "0                           NaN   6        ...                           NaN   \n",
       "1                           NaN   7        ...                           NaN   \n",
       "2                           NaN   8        ...                           NaN   \n",
       "3                           NaN  12        ...                           NaN   \n",
       "4                           NaN  13        ...                           NaN   \n",
       "\n",
       "   rated  role_id  stage          start_time  timesheet_approval_needed  \\\n",
       "0   True       30    3.0 2015-10-25 17:00:00                      False   \n",
       "1   True       30    3.0 2015-10-25 17:00:00                      False   \n",
       "2   True       30    3.0 2015-10-25 17:00:00                      False   \n",
       "3   True       30    3.0 2015-10-31 18:30:00                      False   \n",
       "4   True       30    3.0 2015-10-31 18:30:00                      False   \n",
       "\n",
       "  total_spots  v1_job_id  v1_shift_group_ids  workers_required  \n",
       "0           1        6.0                {10}                 1  \n",
       "1           1        7.0                {11}                 1  \n",
       "2           1        8.0                {12}                 1  \n",
       "3           1       12.0                {17}                 1  \n",
       "4           1       13.0                {18}                 1  \n",
       "\n",
       "[5 rows x 26 columns]"
      ]
     },
     "execution_count": 3,
     "metadata": {},
     "output_type": "execute_result"
    }
   ],
   "source": [
    "jobs_df.head()"
   ]
  },
  {
   "cell_type": "code",
   "execution_count": 4,
   "metadata": {
    "scrolled": false
   },
   "outputs": [
    {
     "name": "stdout",
     "output_type": "stream",
     "text": [
      "<class 'pandas.core.frame.DataFrame'>\n",
      "RangeIndex: 134642 entries, 0 to 134641\n",
      "Data columns (total 26 columns):\n",
      "area_id                          12674 non-null float64\n",
      "bookable_individually            134642 non-null bool\n",
      "break_duration                   134642 non-null int64\n",
      "created_at                       134642 non-null datetime64[ns]\n",
      "deleted_at                       24771 non-null datetime64[ns]\n",
      "employer_id                      134642 non-null int64\n",
      "end_time                         133868 non-null datetime64[ns]\n",
      "filled_spots                     134642 non-null int64\n",
      "health_and_safety_information    514 non-null object\n",
      "id                               134642 non-null int64\n",
      "industry_id                      134642 non-null int64\n",
      "listing_id                       134642 non-null int64\n",
      "pay_rate                         131986 non-null float64\n",
      "pay_rate_max                     134642 non-null float64\n",
      "pay_rate_min                     134642 non-null float64\n",
      "platform_id                      134642 non-null int64\n",
      "purchase_order_number            20335 non-null object\n",
      "rated                            134642 non-null bool\n",
      "role_id                          134642 non-null int64\n",
      "stage                            110071 non-null float64\n",
      "start_time                       133868 non-null datetime64[ns]\n",
      "timesheet_approval_needed        134642 non-null bool\n",
      "total_spots                      134642 non-null int64\n",
      "v1_job_id                        13883 non-null float64\n",
      "v1_shift_group_ids               13883 non-null object\n",
      "workers_required                 134642 non-null int64\n",
      "dtypes: bool(3), datetime64[ns](4), float64(6), int64(10), object(3)\n",
      "memory usage: 24.0+ MB\n"
     ]
    }
   ],
   "source": [
    "jobs_df.info() #shows the columns, number of entries and the type of entries"
   ]
  },
  {
   "cell_type": "code",
   "execution_count": 5,
   "metadata": {
    "scrolled": false
   },
   "outputs": [
    {
     "data": {
      "text/html": [
       "<div>\n",
       "<style scoped>\n",
       "    .dataframe tbody tr th:only-of-type {\n",
       "        vertical-align: middle;\n",
       "    }\n",
       "\n",
       "    .dataframe tbody tr th {\n",
       "        vertical-align: top;\n",
       "    }\n",
       "\n",
       "    .dataframe thead th {\n",
       "        text-align: right;\n",
       "    }\n",
       "</style>\n",
       "<table border=\"1\" class=\"dataframe\">\n",
       "  <thead>\n",
       "    <tr style=\"text-align: right;\">\n",
       "      <th></th>\n",
       "      <th>area_id</th>\n",
       "      <th>break_duration</th>\n",
       "      <th>employer_id</th>\n",
       "      <th>filled_spots</th>\n",
       "      <th>id</th>\n",
       "      <th>industry_id</th>\n",
       "      <th>listing_id</th>\n",
       "      <th>pay_rate</th>\n",
       "      <th>pay_rate_max</th>\n",
       "      <th>pay_rate_min</th>\n",
       "      <th>platform_id</th>\n",
       "      <th>role_id</th>\n",
       "      <th>stage</th>\n",
       "      <th>total_spots</th>\n",
       "      <th>v1_job_id</th>\n",
       "      <th>workers_required</th>\n",
       "    </tr>\n",
       "  </thead>\n",
       "  <tbody>\n",
       "    <tr>\n",
       "      <th>count</th>\n",
       "      <td>12674.000000</td>\n",
       "      <td>134642.000000</td>\n",
       "      <td>134642.000000</td>\n",
       "      <td>134642.000000</td>\n",
       "      <td>134642.000000</td>\n",
       "      <td>134642.000000</td>\n",
       "      <td>134642.000000</td>\n",
       "      <td>131986.000000</td>\n",
       "      <td>134642.000000</td>\n",
       "      <td>134642.000000</td>\n",
       "      <td>134642.000000</td>\n",
       "      <td>134642.000000</td>\n",
       "      <td>110071.000000</td>\n",
       "      <td>134642.000000</td>\n",
       "      <td>13883.000000</td>\n",
       "      <td>134642.000000</td>\n",
       "    </tr>\n",
       "    <tr>\n",
       "      <th>mean</th>\n",
       "      <td>21457.294619</td>\n",
       "      <td>263.674596</td>\n",
       "      <td>21008.314122</td>\n",
       "      <td>2.025675</td>\n",
       "      <td>74511.145898</td>\n",
       "      <td>1.047118</td>\n",
       "      <td>59626.083094</td>\n",
       "      <td>9.871219</td>\n",
       "      <td>29.567276</td>\n",
       "      <td>9.420776</td>\n",
       "      <td>1.424236</td>\n",
       "      <td>34.383305</td>\n",
       "      <td>2.935106</td>\n",
       "      <td>2.345695</td>\n",
       "      <td>8917.884175</td>\n",
       "      <td>2.162015</td>\n",
       "    </tr>\n",
       "    <tr>\n",
       "      <th>std</th>\n",
       "      <td>7520.317740</td>\n",
       "      <td>652.910400</td>\n",
       "      <td>10981.873621</td>\n",
       "      <td>4.290620</td>\n",
       "      <td>42885.514755</td>\n",
       "      <td>0.212206</td>\n",
       "      <td>35339.583907</td>\n",
       "      <td>1.629978</td>\n",
       "      <td>2.701567</td>\n",
       "      <td>1.381838</td>\n",
       "      <td>3.108990</td>\n",
       "      <td>19.343736</td>\n",
       "      <td>0.369765</td>\n",
       "      <td>12.209050</td>\n",
       "      <td>5037.243638</td>\n",
       "      <td>5.186482</td>\n",
       "    </tr>\n",
       "    <tr>\n",
       "      <th>min</th>\n",
       "      <td>3681.000000</td>\n",
       "      <td>-3600.000000</td>\n",
       "      <td>39.000000</td>\n",
       "      <td>0.000000</td>\n",
       "      <td>6.000000</td>\n",
       "      <td>1.000000</td>\n",
       "      <td>1.000000</td>\n",
       "      <td>0.000000</td>\n",
       "      <td>9.030000</td>\n",
       "      <td>0.000000</td>\n",
       "      <td>1.000000</td>\n",
       "      <td>28.000000</td>\n",
       "      <td>0.000000</td>\n",
       "      <td>0.000000</td>\n",
       "      <td>6.000000</td>\n",
       "      <td>1.000000</td>\n",
       "    </tr>\n",
       "    <tr>\n",
       "      <th>25%</th>\n",
       "      <td>20514.000000</td>\n",
       "      <td>0.000000</td>\n",
       "      <td>10459.000000</td>\n",
       "      <td>1.000000</td>\n",
       "      <td>38102.250000</td>\n",
       "      <td>1.000000</td>\n",
       "      <td>29258.250000</td>\n",
       "      <td>9.000000</td>\n",
       "      <td>30.000000</td>\n",
       "      <td>9.000000</td>\n",
       "      <td>1.000000</td>\n",
       "      <td>29.000000</td>\n",
       "      <td>3.000000</td>\n",
       "      <td>1.000000</td>\n",
       "      <td>4611.500000</td>\n",
       "      <td>1.000000</td>\n",
       "    </tr>\n",
       "    <tr>\n",
       "      <th>50%</th>\n",
       "      <td>23212.000000</td>\n",
       "      <td>0.000000</td>\n",
       "      <td>28222.000000</td>\n",
       "      <td>1.000000</td>\n",
       "      <td>72835.500000</td>\n",
       "      <td>1.000000</td>\n",
       "      <td>58606.500000</td>\n",
       "      <td>9.000000</td>\n",
       "      <td>30.000000</td>\n",
       "      <td>9.000000</td>\n",
       "      <td>1.000000</td>\n",
       "      <td>30.000000</td>\n",
       "      <td>3.000000</td>\n",
       "      <td>1.000000</td>\n",
       "      <td>9022.000000</td>\n",
       "      <td>1.000000</td>\n",
       "    </tr>\n",
       "    <tr>\n",
       "      <th>75%</th>\n",
       "      <td>26460.000000</td>\n",
       "      <td>0.000000</td>\n",
       "      <td>29708.000000</td>\n",
       "      <td>2.000000</td>\n",
       "      <td>110496.250000</td>\n",
       "      <td>1.000000</td>\n",
       "      <td>88523.500000</td>\n",
       "      <td>10.000000</td>\n",
       "      <td>30.000000</td>\n",
       "      <td>9.150000</td>\n",
       "      <td>1.000000</td>\n",
       "      <td>32.000000</td>\n",
       "      <td>3.000000</td>\n",
       "      <td>2.000000</td>\n",
       "      <td>13159.500000</td>\n",
       "      <td>2.000000</td>\n",
       "    </tr>\n",
       "    <tr>\n",
       "      <th>max</th>\n",
       "      <td>31137.000000</td>\n",
       "      <td>7200.000000</td>\n",
       "      <td>32443.000000</td>\n",
       "      <td>684.000000</td>\n",
       "      <td>153497.000000</td>\n",
       "      <td>4.000000</td>\n",
       "      <td>125435.000000</td>\n",
       "      <td>30.000000</td>\n",
       "      <td>30.000000</td>\n",
       "      <td>22.500000</td>\n",
       "      <td>28.000000</td>\n",
       "      <td>157.000000</td>\n",
       "      <td>3.000000</td>\n",
       "      <td>3600.000000</td>\n",
       "      <td>17589.000000</td>\n",
       "      <td>1000.000000</td>\n",
       "    </tr>\n",
       "  </tbody>\n",
       "</table>\n",
       "</div>"
      ],
      "text/plain": [
       "            area_id  break_duration    employer_id   filled_spots  \\\n",
       "count  12674.000000   134642.000000  134642.000000  134642.000000   \n",
       "mean   21457.294619      263.674596   21008.314122       2.025675   \n",
       "std     7520.317740      652.910400   10981.873621       4.290620   \n",
       "min     3681.000000    -3600.000000      39.000000       0.000000   \n",
       "25%    20514.000000        0.000000   10459.000000       1.000000   \n",
       "50%    23212.000000        0.000000   28222.000000       1.000000   \n",
       "75%    26460.000000        0.000000   29708.000000       2.000000   \n",
       "max    31137.000000     7200.000000   32443.000000     684.000000   \n",
       "\n",
       "                  id    industry_id     listing_id       pay_rate  \\\n",
       "count  134642.000000  134642.000000  134642.000000  131986.000000   \n",
       "mean    74511.145898       1.047118   59626.083094       9.871219   \n",
       "std     42885.514755       0.212206   35339.583907       1.629978   \n",
       "min         6.000000       1.000000       1.000000       0.000000   \n",
       "25%     38102.250000       1.000000   29258.250000       9.000000   \n",
       "50%     72835.500000       1.000000   58606.500000       9.000000   \n",
       "75%    110496.250000       1.000000   88523.500000      10.000000   \n",
       "max    153497.000000       4.000000  125435.000000      30.000000   \n",
       "\n",
       "        pay_rate_max   pay_rate_min    platform_id        role_id  \\\n",
       "count  134642.000000  134642.000000  134642.000000  134642.000000   \n",
       "mean       29.567276       9.420776       1.424236      34.383305   \n",
       "std         2.701567       1.381838       3.108990      19.343736   \n",
       "min         9.030000       0.000000       1.000000      28.000000   \n",
       "25%        30.000000       9.000000       1.000000      29.000000   \n",
       "50%        30.000000       9.000000       1.000000      30.000000   \n",
       "75%        30.000000       9.150000       1.000000      32.000000   \n",
       "max        30.000000      22.500000      28.000000     157.000000   \n",
       "\n",
       "               stage    total_spots     v1_job_id  workers_required  \n",
       "count  110071.000000  134642.000000  13883.000000     134642.000000  \n",
       "mean        2.935106       2.345695   8917.884175          2.162015  \n",
       "std         0.369765      12.209050   5037.243638          5.186482  \n",
       "min         0.000000       0.000000      6.000000          1.000000  \n",
       "25%         3.000000       1.000000   4611.500000          1.000000  \n",
       "50%         3.000000       1.000000   9022.000000          1.000000  \n",
       "75%         3.000000       2.000000  13159.500000          2.000000  \n",
       "max         3.000000    3600.000000  17589.000000       1000.000000  "
      ]
     },
     "execution_count": 5,
     "metadata": {},
     "output_type": "execute_result"
    }
   ],
   "source": [
    "jobs_df.describe() #descriptive statistics"
   ]
  },
  {
   "cell_type": "code",
   "execution_count": 6,
   "metadata": {},
   "outputs": [
    {
     "data": {
      "text/html": [
       "<div>\n",
       "<style scoped>\n",
       "    .dataframe tbody tr th:only-of-type {\n",
       "        vertical-align: middle;\n",
       "    }\n",
       "\n",
       "    .dataframe tbody tr th {\n",
       "        vertical-align: top;\n",
       "    }\n",
       "\n",
       "    .dataframe thead th {\n",
       "        text-align: right;\n",
       "    }\n",
       "</style>\n",
       "<table border=\"1\" class=\"dataframe\">\n",
       "  <thead>\n",
       "    <tr style=\"text-align: right;\">\n",
       "      <th></th>\n",
       "      <th>code</th>\n",
       "      <th>created_at</th>\n",
       "      <th>deleted_at</th>\n",
       "      <th>id</th>\n",
       "      <th>industry_id</th>\n",
       "      <th>minimum_hours</th>\n",
       "      <th>restrict_verification</th>\n",
       "      <th>subindustry</th>\n",
       "      <th>title</th>\n",
       "      <th>updated_at</th>\n",
       "    </tr>\n",
       "  </thead>\n",
       "  <tbody>\n",
       "    <tr>\n",
       "      <th>0</th>\n",
       "      <td>kitchen-porter</td>\n",
       "      <td>2017-06-18 19:15:57.267</td>\n",
       "      <td>NaN</td>\n",
       "      <td>28</td>\n",
       "      <td>1</td>\n",
       "      <td>4</td>\n",
       "      <td>False</td>\n",
       "      <td>Back of House</td>\n",
       "      <td>Kitchen porter</td>\n",
       "      <td>2019-05-03 12:53:54.997</td>\n",
       "    </tr>\n",
       "    <tr>\n",
       "      <th>1</th>\n",
       "      <td>general-staff</td>\n",
       "      <td>2017-06-18 19:15:57.267</td>\n",
       "      <td>NaN</td>\n",
       "      <td>29</td>\n",
       "      <td>1</td>\n",
       "      <td>4</td>\n",
       "      <td>False</td>\n",
       "      <td>Front of House</td>\n",
       "      <td>General staff</td>\n",
       "      <td>2019-05-03 12:53:54.623</td>\n",
       "    </tr>\n",
       "    <tr>\n",
       "      <th>2</th>\n",
       "      <td>waiting-staff</td>\n",
       "      <td>2017-06-18 19:15:57.267</td>\n",
       "      <td>NaN</td>\n",
       "      <td>30</td>\n",
       "      <td>1</td>\n",
       "      <td>4</td>\n",
       "      <td>False</td>\n",
       "      <td>Front of House</td>\n",
       "      <td>Waiting staff</td>\n",
       "      <td>2019-05-03 12:53:56.183</td>\n",
       "    </tr>\n",
       "    <tr>\n",
       "      <th>3</th>\n",
       "      <td>bar-staff</td>\n",
       "      <td>2017-06-18 19:15:57.267</td>\n",
       "      <td>NaN</td>\n",
       "      <td>31</td>\n",
       "      <td>1</td>\n",
       "      <td>4</td>\n",
       "      <td>False</td>\n",
       "      <td>Front of House</td>\n",
       "      <td>Bartender</td>\n",
       "      <td>2019-05-03 12:53:53.627</td>\n",
       "    </tr>\n",
       "    <tr>\n",
       "      <th>4</th>\n",
       "      <td>bar-back</td>\n",
       "      <td>2017-06-18 19:15:57.267</td>\n",
       "      <td>NaN</td>\n",
       "      <td>32</td>\n",
       "      <td>1</td>\n",
       "      <td>4</td>\n",
       "      <td>False</td>\n",
       "      <td>Front of House</td>\n",
       "      <td>Bar back</td>\n",
       "      <td>2019-05-03 12:53:53.380</td>\n",
       "    </tr>\n",
       "  </tbody>\n",
       "</table>\n",
       "</div>"
      ],
      "text/plain": [
       "             code              created_at  deleted_at  id  industry_id  \\\n",
       "0  kitchen-porter 2017-06-18 19:15:57.267         NaN  28            1   \n",
       "1   general-staff 2017-06-18 19:15:57.267         NaN  29            1   \n",
       "2   waiting-staff 2017-06-18 19:15:57.267         NaN  30            1   \n",
       "3       bar-staff 2017-06-18 19:15:57.267         NaN  31            1   \n",
       "4        bar-back 2017-06-18 19:15:57.267         NaN  32            1   \n",
       "\n",
       "   minimum_hours  restrict_verification     subindustry           title  \\\n",
       "0              4                  False   Back of House  Kitchen porter   \n",
       "1              4                  False  Front of House   General staff   \n",
       "2              4                  False  Front of House   Waiting staff   \n",
       "3              4                  False  Front of House       Bartender   \n",
       "4              4                  False  Front of House        Bar back   \n",
       "\n",
       "               updated_at  \n",
       "0 2019-05-03 12:53:54.997  \n",
       "1 2019-05-03 12:53:54.623  \n",
       "2 2019-05-03 12:53:56.183  \n",
       "3 2019-05-03 12:53:53.627  \n",
       "4 2019-05-03 12:53:53.380  "
      ]
     },
     "execution_count": 6,
     "metadata": {},
     "output_type": "execute_result"
    }
   ],
   "source": [
    "roles_df.head()"
   ]
  },
  {
   "cell_type": "code",
   "execution_count": 7,
   "metadata": {
    "scrolled": true
   },
   "outputs": [
    {
     "name": "stdout",
     "output_type": "stream",
     "text": [
      "<class 'pandas.core.frame.DataFrame'>\n",
      "RangeIndex: 28 entries, 0 to 27\n",
      "Data columns (total 10 columns):\n",
      "code                     28 non-null object\n",
      "created_at               28 non-null datetime64[ns]\n",
      "deleted_at               0 non-null float64\n",
      "id                       28 non-null int64\n",
      "industry_id              28 non-null int64\n",
      "minimum_hours            28 non-null int64\n",
      "restrict_verification    28 non-null bool\n",
      "subindustry              17 non-null object\n",
      "title                    28 non-null object\n",
      "updated_at               28 non-null datetime64[ns]\n",
      "dtypes: bool(1), datetime64[ns](2), float64(1), int64(3), object(3)\n",
      "memory usage: 2.1+ KB\n"
     ]
    }
   ],
   "source": [
    "roles_df.info()"
   ]
  },
  {
   "cell_type": "code",
   "execution_count": 8,
   "metadata": {
    "scrolled": false
   },
   "outputs": [
    {
     "data": {
      "text/html": [
       "<div>\n",
       "<style scoped>\n",
       "    .dataframe tbody tr th:only-of-type {\n",
       "        vertical-align: middle;\n",
       "    }\n",
       "\n",
       "    .dataframe tbody tr th {\n",
       "        vertical-align: top;\n",
       "    }\n",
       "\n",
       "    .dataframe thead th {\n",
       "        text-align: right;\n",
       "    }\n",
       "</style>\n",
       "<table border=\"1\" class=\"dataframe\">\n",
       "  <thead>\n",
       "    <tr style=\"text-align: right;\">\n",
       "      <th></th>\n",
       "      <th>deleted_at</th>\n",
       "      <th>id</th>\n",
       "      <th>industry_id</th>\n",
       "      <th>minimum_hours</th>\n",
       "    </tr>\n",
       "  </thead>\n",
       "  <tbody>\n",
       "    <tr>\n",
       "      <th>count</th>\n",
       "      <td>0.0</td>\n",
       "      <td>28.000000</td>\n",
       "      <td>28.000000</td>\n",
       "      <td>28.000000</td>\n",
       "    </tr>\n",
       "    <tr>\n",
       "      <th>mean</th>\n",
       "      <td>NaN</td>\n",
       "      <td>76.964286</td>\n",
       "      <td>1.607143</td>\n",
       "      <td>4.357143</td>\n",
       "    </tr>\n",
       "    <tr>\n",
       "      <th>std</th>\n",
       "      <td>NaN</td>\n",
       "      <td>55.098889</td>\n",
       "      <td>0.956045</td>\n",
       "      <td>0.780042</td>\n",
       "    </tr>\n",
       "    <tr>\n",
       "      <th>min</th>\n",
       "      <td>NaN</td>\n",
       "      <td>28.000000</td>\n",
       "      <td>1.000000</td>\n",
       "      <td>4.000000</td>\n",
       "    </tr>\n",
       "    <tr>\n",
       "      <th>25%</th>\n",
       "      <td>NaN</td>\n",
       "      <td>34.750000</td>\n",
       "      <td>1.000000</td>\n",
       "      <td>4.000000</td>\n",
       "    </tr>\n",
       "    <tr>\n",
       "      <th>50%</th>\n",
       "      <td>NaN</td>\n",
       "      <td>44.500000</td>\n",
       "      <td>1.000000</td>\n",
       "      <td>4.000000</td>\n",
       "    </tr>\n",
       "    <tr>\n",
       "      <th>75%</th>\n",
       "      <td>NaN</td>\n",
       "      <td>150.250000</td>\n",
       "      <td>2.000000</td>\n",
       "      <td>4.000000</td>\n",
       "    </tr>\n",
       "    <tr>\n",
       "      <th>max</th>\n",
       "      <td>NaN</td>\n",
       "      <td>158.000000</td>\n",
       "      <td>4.000000</td>\n",
       "      <td>6.000000</td>\n",
       "    </tr>\n",
       "  </tbody>\n",
       "</table>\n",
       "</div>"
      ],
      "text/plain": [
       "       deleted_at          id  industry_id  minimum_hours\n",
       "count         0.0   28.000000    28.000000      28.000000\n",
       "mean          NaN   76.964286     1.607143       4.357143\n",
       "std           NaN   55.098889     0.956045       0.780042\n",
       "min           NaN   28.000000     1.000000       4.000000\n",
       "25%           NaN   34.750000     1.000000       4.000000\n",
       "50%           NaN   44.500000     1.000000       4.000000\n",
       "75%           NaN  150.250000     2.000000       4.000000\n",
       "max           NaN  158.000000     4.000000       6.000000"
      ]
     },
     "execution_count": 8,
     "metadata": {},
     "output_type": "execute_result"
    }
   ],
   "source": [
    "roles_df.describe() #descriptive statistics"
   ]
  },
  {
   "cell_type": "markdown",
   "metadata": {},
   "source": [
    "### 3. Data Cleaning\n",
    "The process of analysing, identifying and correcting messy, raw data.\n",
    "\n",
    "Matt 05/07/2019: Remember to treat the NaT/Null values"
   ]
  },
  {
   "cell_type": "code",
   "execution_count": 9,
   "metadata": {},
   "outputs": [],
   "source": [
    "# Remove unnecessary columns\n",
    "\n",
    "# del_col_list = ['','','']\n",
    "\n",
    "# jobs_df = jobs_df.drop(del_col_list, axis=1)\n",
    "# jobs_df.head()"
   ]
  },
  {
   "cell_type": "code",
   "execution_count": 10,
   "metadata": {
    "scrolled": true
   },
   "outputs": [
    {
     "name": "stdout",
     "output_type": "stream",
     "text": [
      "(134642, 26)\n",
      "(134642, 26)\n"
     ]
    }
   ],
   "source": [
    "# Removing the duplicacy in the rows\n",
    "\n",
    "print(jobs_df.shape)\n",
    "jobs_df = jobs_df.drop_duplicates(keep='last')\n",
    "print(jobs_df.shape)"
   ]
  },
  {
   "cell_type": "markdown",
   "metadata": {},
   "source": [
    "Matt: There were no duplicated cells within the jobs dataframe."
   ]
  },
  {
   "cell_type": "code",
   "execution_count": 11,
   "metadata": {},
   "outputs": [],
   "source": [
    "# Creating Date and Time columns\n",
    "\n",
    "## Changing start_time column to DateTime column\n",
    "jobs_df.start_time = pd.to_datetime(jobs_df['start_time'])\n",
    "\n",
    "# Dropping rows with empyty start_time\n",
    "jobs_df = jobs_df.dropna(subset = ['start_time'])\n",
    "\n",
    "## Extract the date and time for each row\n",
    "jobs_df['Date'] = jobs_df['start_time'].dt.date\n",
    "jobs_df['Day'] = jobs_df['start_time'].dt.strftime(\"%A\")\n",
    "jobs_df['Month'] = jobs_df['start_time'].dt.strftime(\"%B\")\n",
    "jobs_df['Year'] = jobs_df['start_time'].dt.strftime(\"%Y\")\n",
    "jobs_df['Time'] = jobs_df['start_time'].dt.time\n",
    "jobs_df['Hour'] = jobs_df['start_time'].dt.strftime(\"%H\")\n",
    "jobs_df['Minute'] = jobs_df['start_time'].dt.minute\n",
    "jobs_df['Day of Year'] = jobs_df['start_time'].dt.strftime(\"%j\")\n",
    "jobs_df['Week of Year'] = jobs_df['start_time'].dt.strftime(\"%W\")"
   ]
  },
  {
   "cell_type": "code",
   "execution_count": 12,
   "metadata": {
    "scrolled": true
   },
   "outputs": [
    {
     "data": {
      "text/html": [
       "<div>\n",
       "<style scoped>\n",
       "    .dataframe tbody tr th:only-of-type {\n",
       "        vertical-align: middle;\n",
       "    }\n",
       "\n",
       "    .dataframe tbody tr th {\n",
       "        vertical-align: top;\n",
       "    }\n",
       "\n",
       "    .dataframe thead th {\n",
       "        text-align: right;\n",
       "    }\n",
       "</style>\n",
       "<table border=\"1\" class=\"dataframe\">\n",
       "  <thead>\n",
       "    <tr style=\"text-align: right;\">\n",
       "      <th></th>\n",
       "      <th>area_id</th>\n",
       "      <th>bookable_individually</th>\n",
       "      <th>break_duration</th>\n",
       "      <th>created_at</th>\n",
       "      <th>deleted_at</th>\n",
       "      <th>employer_id</th>\n",
       "      <th>end_time</th>\n",
       "      <th>filled_spots</th>\n",
       "      <th>health_and_safety_information</th>\n",
       "      <th>id</th>\n",
       "      <th>...</th>\n",
       "      <th>workers_required</th>\n",
       "      <th>Date</th>\n",
       "      <th>Day</th>\n",
       "      <th>Month</th>\n",
       "      <th>Year</th>\n",
       "      <th>Time</th>\n",
       "      <th>Hour</th>\n",
       "      <th>Minute</th>\n",
       "      <th>Day of Year</th>\n",
       "      <th>Week of Year</th>\n",
       "    </tr>\n",
       "  </thead>\n",
       "  <tbody>\n",
       "    <tr>\n",
       "      <th>0</th>\n",
       "      <td>NaN</td>\n",
       "      <td>False</td>\n",
       "      <td>0</td>\n",
       "      <td>2015-10-22 14:07:14.213</td>\n",
       "      <td>NaT</td>\n",
       "      <td>39</td>\n",
       "      <td>2015-10-26</td>\n",
       "      <td>0</td>\n",
       "      <td>NaN</td>\n",
       "      <td>6</td>\n",
       "      <td>...</td>\n",
       "      <td>1</td>\n",
       "      <td>2015-10-25</td>\n",
       "      <td>Sunday</td>\n",
       "      <td>October</td>\n",
       "      <td>2015</td>\n",
       "      <td>17:00:00</td>\n",
       "      <td>17</td>\n",
       "      <td>0</td>\n",
       "      <td>298</td>\n",
       "      <td>42</td>\n",
       "    </tr>\n",
       "    <tr>\n",
       "      <th>1</th>\n",
       "      <td>NaN</td>\n",
       "      <td>False</td>\n",
       "      <td>0</td>\n",
       "      <td>2015-10-22 14:08:48.880</td>\n",
       "      <td>NaT</td>\n",
       "      <td>39</td>\n",
       "      <td>2015-10-26</td>\n",
       "      <td>0</td>\n",
       "      <td>NaN</td>\n",
       "      <td>7</td>\n",
       "      <td>...</td>\n",
       "      <td>1</td>\n",
       "      <td>2015-10-25</td>\n",
       "      <td>Sunday</td>\n",
       "      <td>October</td>\n",
       "      <td>2015</td>\n",
       "      <td>17:00:00</td>\n",
       "      <td>17</td>\n",
       "      <td>0</td>\n",
       "      <td>298</td>\n",
       "      <td>42</td>\n",
       "    </tr>\n",
       "    <tr>\n",
       "      <th>2</th>\n",
       "      <td>NaN</td>\n",
       "      <td>False</td>\n",
       "      <td>0</td>\n",
       "      <td>2015-10-22 14:10:16.920</td>\n",
       "      <td>NaT</td>\n",
       "      <td>39</td>\n",
       "      <td>2015-10-26</td>\n",
       "      <td>1</td>\n",
       "      <td>NaN</td>\n",
       "      <td>8</td>\n",
       "      <td>...</td>\n",
       "      <td>1</td>\n",
       "      <td>2015-10-25</td>\n",
       "      <td>Sunday</td>\n",
       "      <td>October</td>\n",
       "      <td>2015</td>\n",
       "      <td>17:00:00</td>\n",
       "      <td>17</td>\n",
       "      <td>0</td>\n",
       "      <td>298</td>\n",
       "      <td>42</td>\n",
       "    </tr>\n",
       "    <tr>\n",
       "      <th>3</th>\n",
       "      <td>NaN</td>\n",
       "      <td>False</td>\n",
       "      <td>0</td>\n",
       "      <td>2015-10-27 10:02:46.500</td>\n",
       "      <td>NaT</td>\n",
       "      <td>39</td>\n",
       "      <td>2015-11-01</td>\n",
       "      <td>1</td>\n",
       "      <td>NaN</td>\n",
       "      <td>12</td>\n",
       "      <td>...</td>\n",
       "      <td>1</td>\n",
       "      <td>2015-10-31</td>\n",
       "      <td>Saturday</td>\n",
       "      <td>October</td>\n",
       "      <td>2015</td>\n",
       "      <td>18:30:00</td>\n",
       "      <td>18</td>\n",
       "      <td>30</td>\n",
       "      <td>304</td>\n",
       "      <td>43</td>\n",
       "    </tr>\n",
       "    <tr>\n",
       "      <th>4</th>\n",
       "      <td>NaN</td>\n",
       "      <td>False</td>\n",
       "      <td>0</td>\n",
       "      <td>2015-10-27 10:05:35.850</td>\n",
       "      <td>NaT</td>\n",
       "      <td>39</td>\n",
       "      <td>2015-11-01</td>\n",
       "      <td>1</td>\n",
       "      <td>NaN</td>\n",
       "      <td>13</td>\n",
       "      <td>...</td>\n",
       "      <td>1</td>\n",
       "      <td>2015-10-31</td>\n",
       "      <td>Saturday</td>\n",
       "      <td>October</td>\n",
       "      <td>2015</td>\n",
       "      <td>18:30:00</td>\n",
       "      <td>18</td>\n",
       "      <td>30</td>\n",
       "      <td>304</td>\n",
       "      <td>43</td>\n",
       "    </tr>\n",
       "  </tbody>\n",
       "</table>\n",
       "<p>5 rows × 35 columns</p>\n",
       "</div>"
      ],
      "text/plain": [
       "   area_id  bookable_individually  break_duration              created_at  \\\n",
       "0      NaN                  False               0 2015-10-22 14:07:14.213   \n",
       "1      NaN                  False               0 2015-10-22 14:08:48.880   \n",
       "2      NaN                  False               0 2015-10-22 14:10:16.920   \n",
       "3      NaN                  False               0 2015-10-27 10:02:46.500   \n",
       "4      NaN                  False               0 2015-10-27 10:05:35.850   \n",
       "\n",
       "  deleted_at  employer_id   end_time  filled_spots  \\\n",
       "0        NaT           39 2015-10-26             0   \n",
       "1        NaT           39 2015-10-26             0   \n",
       "2        NaT           39 2015-10-26             1   \n",
       "3        NaT           39 2015-11-01             1   \n",
       "4        NaT           39 2015-11-01             1   \n",
       "\n",
       "  health_and_safety_information  id      ...       workers_required  \\\n",
       "0                           NaN   6      ...                      1   \n",
       "1                           NaN   7      ...                      1   \n",
       "2                           NaN   8      ...                      1   \n",
       "3                           NaN  12      ...                      1   \n",
       "4                           NaN  13      ...                      1   \n",
       "\n",
       "         Date       Day    Month  Year      Time Hour  Minute  Day of Year  \\\n",
       "0  2015-10-25    Sunday  October  2015  17:00:00   17       0          298   \n",
       "1  2015-10-25    Sunday  October  2015  17:00:00   17       0          298   \n",
       "2  2015-10-25    Sunday  October  2015  17:00:00   17       0          298   \n",
       "3  2015-10-31  Saturday  October  2015  18:30:00   18      30          304   \n",
       "4  2015-10-31  Saturday  October  2015  18:30:00   18      30          304   \n",
       "\n",
       "   Week of Year  \n",
       "0            42  \n",
       "1            42  \n",
       "2            42  \n",
       "3            43  \n",
       "4            43  \n",
       "\n",
       "[5 rows x 35 columns]"
      ]
     },
     "execution_count": 12,
     "metadata": {},
     "output_type": "execute_result"
    }
   ],
   "source": [
    "jobs_df.head()"
   ]
  },
  {
   "cell_type": "code",
   "execution_count": 13,
   "metadata": {},
   "outputs": [],
   "source": [
    "# alternatively, before converting the numerical values to categorical values,\n",
    "# we can assgin the role name to each entry based on roles_df and it will be considered categorical already."
   ]
  },
  {
   "cell_type": "code",
   "execution_count": 14,
   "metadata": {
    "scrolled": true
   },
   "outputs": [
    {
     "name": "stdout",
     "output_type": "stream",
     "text": [
      "<class 'pandas.core.frame.DataFrame'>\n",
      "Int64Index: 133868 entries, 0 to 134641\n",
      "Data columns (total 35 columns):\n",
      "area_id                          12573 non-null float64\n",
      "bookable_individually            133868 non-null bool\n",
      "break_duration                   133868 non-null int64\n",
      "created_at                       133868 non-null datetime64[ns]\n",
      "deleted_at                       24142 non-null datetime64[ns]\n",
      "employer_id                      133868 non-null int64\n",
      "end_time                         133868 non-null datetime64[ns]\n",
      "filled_spots                     133868 non-null int64\n",
      "health_and_safety_information    514 non-null object\n",
      "id                               133868 non-null int64\n",
      "industry_id                      133868 non-null int64\n",
      "listing_id                       133868 non-null int64\n",
      "pay_rate                         131266 non-null float64\n",
      "pay_rate_max                     133868 non-null float64\n",
      "pay_rate_min                     133868 non-null float64\n",
      "platform_id                      133868 non-null int64\n",
      "purchase_order_number            20315 non-null object\n",
      "rated                            133868 non-null bool\n",
      "role_id                          133868 non-null int64\n",
      "stage                            110042 non-null float64\n",
      "start_time                       133868 non-null datetime64[ns]\n",
      "timesheet_approval_needed        133868 non-null bool\n",
      "total_spots                      133868 non-null int64\n",
      "v1_job_id                        13878 non-null float64\n",
      "v1_shift_group_ids               13878 non-null object\n",
      "workers_required                 133868 non-null int64\n",
      "Date                             133868 non-null object\n",
      "Day                              133868 non-null object\n",
      "Month                            133868 non-null object\n",
      "Year                             133868 non-null object\n",
      "Time                             133868 non-null object\n",
      "Hour                             133868 non-null object\n",
      "Minute                           133868 non-null int64\n",
      "Day of Year                      133868 non-null object\n",
      "Week of Year                     133868 non-null object\n",
      "dtypes: bool(3), datetime64[ns](4), float64(6), int64(11), object(11)\n",
      "memory usage: 34.1+ MB\n"
     ]
    }
   ],
   "source": [
    "jobs_df.info()"
   ]
  },
  {
   "cell_type": "code",
   "execution_count": 15,
   "metadata": {},
   "outputs": [
    {
     "name": "stdout",
     "output_type": "stream",
     "text": [
      "('1.', CategoricalDtype(categories=[ 28,  29,  30,  31,  32,  33,  34,  35,  36,  37,  39,  40,\n",
      "                   41,  44,  45,  46,  47,  48,  99, 149, 150, 151, 152, 153,\n",
      "                  155, 156, 157],\n",
      "                 ordered=False))\n",
      "('2.', CategoricalDtype(categories=[ 3681.0,  3682.0,  3683.0,  3689.0,  3690.0,  3692.0,\n",
      "                   3693.0,  3695.0,  3697.0,  3698.0,\n",
      "                  ...\n",
      "                  30901.0, 30958.0, 31002.0, 31006.0, 31045.0, 31075.0,\n",
      "                  31082.0, 31117.0, 31136.0, 31137.0],\n",
      "                 ordered=False))\n",
      "('3.', CategoricalDtype(categories=[   39,    45,    95,    97,   100,   104,   147,   157,\n",
      "                    160,   176,\n",
      "                  ...\n",
      "                  32427, 32429, 32430, 32432, 32433, 32434, 32436, 32437,\n",
      "                  32438, 32443],\n",
      "                 ordered=False))\n",
      "('4.', CategoricalDtype(categories=[1, 2, 4], ordered=False))\n",
      "('5.', CategoricalDtype(categories=[u'Friday', u'Monday', u'Saturday', u'Sunday', u'Thursday',\n",
      "                  u'Tuesday', u'Wednesday'],\n",
      "                 ordered=False))\n",
      "('6.', CategoricalDtype(categories=[u'April', u'August', u'December', u'February', u'January',\n",
      "                  u'July', u'June', u'March', u'May', u'November', u'October',\n",
      "                  u'September'],\n",
      "                 ordered=False))\n",
      "('7.', CategoricalDtype(categories=[u'2015', u'2016', u'2017', u'2018', u'2019', u'2020',\n",
      "                  u'2026'],\n",
      "                 ordered=False))\n",
      "('8.', CategoricalDtype(categories=[u'00', u'01', u'02', u'03', u'04', u'05', u'06', u'07',\n",
      "                  u'08', u'09', u'10', u'11', u'12', u'13', u'14', u'15',\n",
      "                  u'16', u'17', u'18', u'19', u'20', u'21', u'22', u'23'],\n",
      "                 ordered=False))\n",
      "('5.', CategoricalDtype(categories=[u'001', u'002', u'003', u'004', u'005', u'006', u'007',\n",
      "                  u'008', u'009', u'010',\n",
      "                  ...\n",
      "                  u'357', u'358', u'359', u'360', u'361', u'362', u'363',\n",
      "                  u'364', u'365', u'366'],\n",
      "                 ordered=False))\n",
      "('6.', CategoricalDtype(categories=[u'00', u'01', u'02', u'03', u'04', u'05', u'06', u'07',\n",
      "                  u'08', u'09', u'10', u'11', u'12', u'13', u'14', u'15',\n",
      "                  u'16', u'17', u'18', u'19', u'20', u'21', u'22', u'23',\n",
      "                  u'24', u'25', u'26', u'27', u'28', u'29', u'30', u'31',\n",
      "                  u'32', u'33', u'34', u'35', u'36', u'37', u'38', u'39',\n",
      "                  u'40', u'41', u'42', u'43', u'44', u'45', u'46', u'47',\n",
      "                  u'48', u'49', u'50', u'51', u'52', u'53'],\n",
      "                 ordered=False))\n",
      "('11.', CategoricalDtype(categories=[ 28,  29,  30,  31,  32,  33,  34,  35,  36,  37,  39,  40,\n",
      "                   41,  44,  45,  46,  47,  48,  99, 149, 150, 151, 152, 153,\n",
      "                  155, 156, 157, 158],\n",
      "                 ordered=False))\n",
      "('12.', CategoricalDtype(categories=[u'bar-back', u'bar-staff', u'barista', u'chef-de-partie',\n",
      "                  u'cleaner', u'commis-chef', u'delivery-driver',\n",
      "                  u'door-supervisor', u'events-security', u'festival-staff',\n",
      "                  u'food-prep-assistant', u'food-production-operative',\n",
      "                  u'forklift-operator', u'general-staff', u'head-chef',\n",
      "                  u'hostess', u'kitchen-porter', u'lead-chef', u'loader',\n",
      "                  u'motorcycle-courier', u'picker-packer', u'receptionist',\n",
      "                  u'sous-chef', u'stockroom-assistant', u'supervisor',\n",
      "                  u'team-leader', u'waiting-staff', u'warehouse-operative'],\n",
      "                 ordered=False))\n",
      "('13.', CategoricalDtype(categories=[1, 2, 4], ordered=False))\n",
      "('14.', CategoricalDtype(categories=[u'Back of House', u'Front of House'], ordered=False))\n",
      "('15.', CategoricalDtype(categories=[u'Bar back', u'Barista', u'Bartender', u'Chef de Partie',\n",
      "                  u'Cleaner', u'Commis Chef', u'Delivery Driver',\n",
      "                  u'Door Supervisor', u'Events Security', u'Festival Staff',\n",
      "                  u'Food Prep Assistant', u'Food Production Operative',\n",
      "                  u'Forklift driver', u'General staff', u'Head Chef',\n",
      "                  u'Hostess', u'Kitchen porter', u'Lead Chef',\n",
      "                  u'Loader / Crew', u'Motorcycle Courier', u'Picker packer',\n",
      "                  u'Receptionist', u'Sous Chef', u'Stockroom Assistant',\n",
      "                  u'Supervisor', u'Team leader', u'Waiting staff',\n",
      "                  u'Warehouse operative'],\n",
      "                 ordered=False))\n"
     ]
    }
   ],
   "source": [
    "# Converting columns to Categorical\n",
    "## For jobs_df:\n",
    "jobs_df['role_id'] = jobs_df['role_id'].astype('category',copy=False)\n",
    "print(\"1.\", jobs_df.role_id.dtypes)\n",
    "#jobs_df['area_id'] = jobs_df['area_id'].astype(int)\n",
    "jobs_df['area_id'] = jobs_df['area_id'].astype('category',copy=False)\n",
    "print(\"2.\", jobs_df.area_id.dtypes)\n",
    "jobs_df['employer_id'] = jobs_df['employer_id'].astype('category',copy=False)\n",
    "print(\"3.\", jobs_df.employer_id.dtypes)\n",
    "jobs_df['industry_id'] = jobs_df['industry_id'].astype('category',copy=False)\n",
    "print(\"4.\", jobs_df.industry_id.dtypes)\n",
    "jobs_df['Day'] = jobs_df['Day'].astype('category',copy=False)\n",
    "print(\"5.\", jobs_df.Day.dtypes)\n",
    "jobs_df['Month'] = jobs_df['Month'].astype('category',copy=False)\n",
    "print(\"6.\", jobs_df.Month.dtypes)\n",
    "jobs_df['Year'] = jobs_df['Year'].astype('category',copy=False)\n",
    "print(\"7.\", jobs_df.Year.dtypes)\n",
    "jobs_df['Hour'] = jobs_df['Hour'].astype('category',copy=False)\n",
    "print(\"8.\", jobs_df.Hour.dtypes)\n",
    "jobs_df['Day of Year'] = jobs_df['Day of Year'].astype('category',copy=False)\n",
    "print(\"5.\", jobs_df['Day of Year'].dtypes)\n",
    "jobs_df['Week of Year'] = jobs_df['Week of Year'].astype('category',copy=False)\n",
    "print(\"6.\", jobs_df['Week of Year'].dtypes)\n",
    "\n",
    "## renaming column name for roles_df\n",
    "roles_df = roles_df.rename(index=str, columns={\"id\": \"role_id\"})\n",
    "## For roles_df\n",
    "roles_df['role_id'] = roles_df['role_id'].astype('category',copy=False)\n",
    "print(\"11.\", roles_df.role_id.dtypes)\n",
    "roles_df['code'] = roles_df['code'].astype('category',copy=False)\n",
    "print(\"12.\", roles_df.code.dtypes)\n",
    "roles_df['industry_id'] = roles_df['industry_id'].astype('category',copy=False)\n",
    "print(\"13.\", roles_df.industry_id.dtypes)\n",
    "roles_df['subindustry'] = roles_df['subindustry'].astype('category',copy=False)\n",
    "print(\"14.\", roles_df.subindustry.dtypes)\n",
    "roles_df['title'] = roles_df['title'].astype('category',copy=False)\n",
    "print(\"15.\", roles_df.title.dtypes)"
   ]
  },
  {
   "cell_type": "code",
   "execution_count": 16,
   "metadata": {
    "scrolled": false
   },
   "outputs": [
    {
     "name": "stdout",
     "output_type": "stream",
     "text": [
      "  role_id area_id       Day    Month  Year Hour Day of Year Week of Year  \\\n",
      "0      30     NaN    Sunday  October  2015   17         298           42   \n",
      "1      30     NaN    Sunday  October  2015   17         298           42   \n",
      "2      30     NaN    Sunday  October  2015   17         298           42   \n",
      "3      30     NaN  Saturday  October  2015   18         304           43   \n",
      "4      30     NaN  Saturday  October  2015   18         304           43   \n",
      "\n",
      "   total_spots  \n",
      "0            1  \n",
      "1            1  \n",
      "2            1  \n",
      "3            1  \n",
      "4            1  \n",
      "(133868, 9)\n"
     ]
    }
   ],
   "source": [
    "# Creating dataframe that consists of just the role_id, arae_id, date, \n",
    "# time and total_spots columns.\n",
    "\n",
    "df1 = jobs_df[['role_id','area_id','Day','Month','Year','Hour','Day of Year','Week of Year','total_spots']].copy()\n",
    "print(df1.head())\n",
    "print(df1.shape)"
   ]
  },
  {
   "cell_type": "code",
   "execution_count": 17,
   "metadata": {
    "scrolled": true
   },
   "outputs": [
    {
     "name": "stdout",
     "output_type": "stream",
     "text": [
      "<class 'pandas.core.frame.DataFrame'>\n",
      "Int64Index: 133868 entries, 0 to 134641\n",
      "Data columns (total 9 columns):\n",
      "role_id         133868 non-null category\n",
      "area_id         12573 non-null category\n",
      "Day             133868 non-null category\n",
      "Month           133868 non-null category\n",
      "Year            133868 non-null category\n",
      "Hour            133868 non-null category\n",
      "Day of Year     133868 non-null category\n",
      "Week of Year    133868 non-null category\n",
      "total_spots     133868 non-null int64\n",
      "dtypes: category(8), int64(1)\n",
      "memory usage: 3.4 MB\n"
     ]
    }
   ],
   "source": [
    "df1.info()"
   ]
  },
  {
   "cell_type": "code",
   "execution_count": 18,
   "metadata": {
    "scrolled": true
   },
   "outputs": [
    {
     "name": "stdout",
     "output_type": "stream",
     "text": [
      "  role_id area_id       Day    Month  Year Hour Day of Year Week of Year  \\\n",
      "0      30     NaN    Sunday  October  2015   17         298           42   \n",
      "1      30     NaN    Sunday  October  2015   17         298           42   \n",
      "2      30     NaN    Sunday  October  2015   17         298           42   \n",
      "3      30     NaN  Saturday  October  2015   18         304           43   \n",
      "4      30     NaN  Saturday  October  2015   18         304           43   \n",
      "\n",
      "   total_spots  \n",
      "0            1  \n",
      "1            1  \n",
      "2            1  \n",
      "3            1  \n",
      "4            1  \n",
      "(133868, 9)\n"
     ]
    }
   ],
   "source": [
    "df2 = jobs_df[['role_id','area_id','Day','Month','Year','Hour','Day of Year','Week of Year','workers_required']].copy()\n",
    "df2\n",
    "print(df1.head())\n",
    "print(df1.shape)"
   ]
  },
  {
   "cell_type": "code",
   "execution_count": 19,
   "metadata": {},
   "outputs": [
    {
     "name": "stdout",
     "output_type": "stream",
     "text": [
      "<class 'pandas.core.frame.DataFrame'>\n",
      "Int64Index: 133868 entries, 0 to 134641\n",
      "Data columns (total 9 columns):\n",
      "role_id             133868 non-null category\n",
      "area_id             12573 non-null category\n",
      "Day                 133868 non-null category\n",
      "Month               133868 non-null category\n",
      "Year                133868 non-null category\n",
      "Hour                133868 non-null category\n",
      "Day of Year         133868 non-null category\n",
      "Week of Year        133868 non-null category\n",
      "workers_required    133868 non-null int64\n",
      "dtypes: category(8), int64(1)\n",
      "memory usage: 3.4 MB\n"
     ]
    }
   ],
   "source": [
    "df2.info()"
   ]
  },
  {
   "cell_type": "markdown",
   "metadata": {},
   "source": [
    "### 4. Defining Questions\n",
    "The main goal is to identify and create relationships which can help build a hypothesis. We define questions which can help us build some relationships to look at.\n",
    "\n",
    "Preliminary Set of Questions:\n",
    "1. Which roles have the most number of shifts?\n",
    "2. Which location has the most number of shifts?\n",
    "3. Which date or time has the most number of shifts?"
   ]
  },
  {
   "cell_type": "code",
   "execution_count": 20,
   "metadata": {
    "scrolled": true
   },
   "outputs": [
    {
     "data": {
      "text/plain": [
       "role_id\n",
       "28     18386\n",
       "29     44094\n",
       "30    132566\n",
       "31     37022\n",
       "32      8320\n",
       "Name: workers_required, dtype: int64"
      ]
     },
     "execution_count": 20,
     "metadata": {},
     "output_type": "execute_result"
    }
   ],
   "source": [
    "# Question 1: Which roles have the most number of shifts?\n",
    "# Accumulating total_spots based on roled_id\n",
    "\n",
    "#df1ques1 = df1.groupby(['role_id']).sum() is an alternative method.\n",
    "df1ques1 = df1.groupby('role_id')['total_spots'].sum()\n",
    "df2ques1 = df2.groupby('role_id')['workers_required'].sum()\n",
    "df1ques1.head()\n",
    "df2ques1.head()"
   ]
  },
  {
   "cell_type": "code",
   "execution_count": 21,
   "metadata": {},
   "outputs": [
    {
     "name": "stdout",
     "output_type": "stream",
     "text": [
      "area_id\n",
      "3681.0      0\n",
      "3682.0     48\n",
      "3683.0     61\n",
      "3689.0    102\n",
      "3690.0      1\n",
      "Name: total_spots, dtype: int64\n",
      "area_id\n",
      "3681.0     1\n",
      "3682.0    53\n",
      "3683.0    68\n",
      "3689.0    90\n",
      "3690.0     1\n",
      "Name: workers_required, dtype: int64\n"
     ]
    }
   ],
   "source": [
    "# Question 2: Which location has the most number of shifts?\n",
    "# Accumulating total_spots based on area_id\n",
    "\n",
    "#dfques2 = df1.groupby(['area_id']).sum()\n",
    "df1ques2 = df1.groupby('area_id')['total_spots'].sum()\n",
    "df2ques2 = df2.groupby('area_id')['workers_required'].sum()\n",
    "print(df1ques2.head())\n",
    "print(df2ques2.head())"
   ]
  },
  {
   "cell_type": "code",
   "execution_count": 22,
   "metadata": {
    "scrolled": true
   },
   "outputs": [
    {
     "name": "stdout",
     "output_type": "stream",
     "text": [
      "area_id\n",
      "3681.0        0\n",
      "25158.0       0\n",
      "25157.0       0\n",
      "25128.0       0\n",
      "24979.0       0\n",
      "24965.0       0\n",
      "24910.0       0\n",
      "24670.0       0\n",
      "24614.0       0\n",
      "24581.0       0\n",
      "24579.0       0\n",
      "24554.0       0\n",
      "24548.0       0\n",
      "24534.0       0\n",
      "24415.0       0\n",
      "24348.0       0\n",
      "25332.0       0\n",
      "24346.0       0\n",
      "25420.0       0\n",
      "25621.0       0\n",
      "26329.0       0\n",
      "26241.0       0\n",
      "26234.0       0\n",
      "26084.0       0\n",
      "26083.0       0\n",
      "26072.0       0\n",
      "25866.0       0\n",
      "25846.0       0\n",
      "25839.0       0\n",
      "25792.0       0\n",
      "           ... \n",
      "20165.0     208\n",
      "23464.0     224\n",
      "21284.0     225\n",
      "23654.0     229\n",
      "22657.0     235\n",
      "23655.0     239\n",
      "23656.0     242\n",
      "27609.0     243\n",
      "24990.0     250\n",
      "21368.0     273\n",
      "19648.0     294\n",
      "23212.0     296\n",
      "21474.0     307\n",
      "24860.0     310\n",
      "20183.0     322\n",
      "23621.0     349\n",
      "26767.0     361\n",
      "26194.0     363\n",
      "20399.0     392\n",
      "21492.0     410\n",
      "28968.0     445\n",
      "3720.0      460\n",
      "26758.0     556\n",
      "20514.0     594\n",
      "22860.0     607\n",
      "24992.0     660\n",
      "3730.0      670\n",
      "23647.0     717\n",
      "3774.0      881\n",
      "23978.0    1233\n",
      "Name: total_spots, Length: 1127, dtype: int64\n"
     ]
    }
   ],
   "source": [
    "df1ques2a = df1ques2.sort_values()\n",
    "print(df1ques2a)"
   ]
  },
  {
   "cell_type": "code",
   "execution_count": 23,
   "metadata": {},
   "outputs": [],
   "source": [
    "# Question 3: Which date has the most number of shifts?\n",
    "# Accumulating total_spots based on Date\n",
    "\n",
    "df1ques3a = df1.groupby(['Day']).sum()\n",
    "df2ques3a = df2.groupby(['Day']).sum()\n",
    "\n",
    "#df1ques3a = df1.groupby('Day')['total_spots'].sum()\n",
    "\n",
    "df1ques3b = df1.groupby(['Month']).sum()\n",
    "df2ques3b = df2.groupby(['Month']).sum()\n",
    "\n",
    "df1ques3c = df1.groupby(['Year']).sum()\n",
    "df2ques3c = df2.groupby(['Year']).sum()\n",
    "\n",
    "df1ques3d = df1.groupby(['Hour']).sum()\n",
    "df2ques3d = df2.groupby(['Hour']).sum()\n",
    "\n",
    "df1ques3e = df1.groupby(['Day of Year']).sum()\n",
    "df2ques3e = df2.groupby(['Day of Year']).sum()\n",
    "\n",
    "df1ques3f = df1.groupby(['Week of Year']).sum()\n",
    "df2ques3f = df2.groupby(['Week of Year']).sum()"
   ]
  },
  {
   "cell_type": "code",
   "execution_count": 24,
   "metadata": {},
   "outputs": [
    {
     "name": "stdout",
     "output_type": "stream",
     "text": [
      "           total_spots\n",
      "Day                   \n",
      "Monday           63143\n",
      "Tuesday          39500\n",
      "Wednesday        44116\n",
      "Thursday         48178\n",
      "Friday           45984\n",
      "           workers_required\n",
      "Day                        \n",
      "Monday                29913\n",
      "Tuesday               34000\n",
      "Wednesday             39584\n",
      "Thursday              51769\n",
      "Friday                47137\n",
      "          total_spots\n",
      "Month                \n",
      "January         15153\n",
      "February        16953\n",
      "March           22256\n",
      "April           20282\n",
      "May             32285\n",
      "          workers_required\n",
      "Month                     \n",
      "January              13394\n",
      "February             13898\n",
      "March                19885\n",
      "April                19386\n",
      "May                  29343\n"
     ]
    }
   ],
   "source": [
    "#reindexing the output ques3a and ques3b\n",
    "\n",
    "df1ques3a = df1ques3a.reindex(['Monday', 'Tuesday', 'Wednesday', 'Thursday', 'Friday', 'Saturday', 'Sunday'])\n",
    "df2ques3a = df2ques3a.reindex(['Monday', 'Tuesday', 'Wednesday', 'Thursday', 'Friday', 'Saturday', 'Sunday'])\n",
    "\n",
    "df1ques3b = df1ques3b.reindex(['January', 'February', 'March', 'April', 'May', 'June', 'July', \n",
    "                               'August', 'September', 'October', 'November', 'December'])\n",
    "df2ques3b = df2ques3b.reindex(['January', 'February', 'March', 'April', 'May', 'June', 'July', \n",
    "                               'August', 'September', 'October', 'November', 'December'])\n",
    "\n",
    "print(df1ques3a.head())\n",
    "print(df2ques3a.head())\n",
    "print(df1ques3b.head())\n",
    "print(df2ques3b.head())"
   ]
  },
  {
   "cell_type": "markdown",
   "metadata": {},
   "source": [
    "### 5. Data Visualisation"
   ]
  },
  {
   "cell_type": "code",
   "execution_count": 25,
   "metadata": {},
   "outputs": [
    {
     "name": "stdout",
     "output_type": "stream",
     "text": [
      "         total_spots  workers_required\n",
      "role_id                               \n",
      "28             24684             18386\n",
      "29             47145             44094\n",
      "30            126370            132566\n",
      "31             33747             37022\n",
      "32              9678              8320\n"
     ]
    }
   ],
   "source": [
    "dfques1 = pd.concat([df1ques1,df2ques1],axis = 1 )\n",
    "print(dfques1.head())"
   ]
  },
  {
   "cell_type": "code",
   "execution_count": 26,
   "metadata": {
    "scrolled": false
   },
   "outputs": [
    {
     "data": {
      "image/png": "[encoded data removed]",
      "text/plain": [
       "<Figure size 576x576 with 1 Axes>"
      ]
     },
     "metadata": {
      "needs_background": "light"
     },
     "output_type": "display_data"
    }
   ],
   "source": [
    "dfques1.plot.bar(title='Number of Shifts vs Role', figsize=(8,8))\n",
    "plt.tight_layout()\n",
    "#df1ques1.set_ylabel('Total Spots')\n",
    "plt.savefig('Number of Shifts vs Role.pdf', dpi=150)\n",
    "plt.show()"
   ]
  },
  {
   "cell_type": "code",
   "execution_count": 27,
   "metadata": {
    "scrolled": true
   },
   "outputs": [
    {
     "data": {
      "image/png": "[encoded data removed]",
      "text/plain": [
       "<Figure size 576x288 with 1 Axes>"
      ]
     },
     "metadata": {
      "needs_background": "light"
     },
     "output_type": "display_data"
    }
   ],
   "source": [
    "dfques2 = pd.concat([df1ques2,df2ques2],axis = 1 )\n",
    "dfques2.plot.bar(title='Number of Shifts vs Area', figsize = (8,4))\n",
    "plt.tight_layout()\n",
    "plt.savefig('Number of Shifts vs Area.pdf', dpi=150)\n",
    "plt.show()"
   ]
  },
  {
   "cell_type": "code",
   "execution_count": 28,
   "metadata": {},
   "outputs": [],
   "source": [
    "dfques2sort = dfques2.sort_values(by=['total_spots', 'workers_required'])"
   ]
  },
  {
   "cell_type": "code",
   "execution_count": 29,
   "metadata": {
    "scrolled": true
   },
   "outputs": [
    {
     "data": {
      "text/html": [
       "<div>\n",
       "<style scoped>\n",
       "    .dataframe tbody tr th:only-of-type {\n",
       "        vertical-align: middle;\n",
       "    }\n",
       "\n",
       "    .dataframe tbody tr th {\n",
       "        vertical-align: top;\n",
       "    }\n",
       "\n",
       "    .dataframe thead th {\n",
       "        text-align: right;\n",
       "    }\n",
       "</style>\n",
       "<table border=\"1\" class=\"dataframe\">\n",
       "  <thead>\n",
       "    <tr style=\"text-align: right;\">\n",
       "      <th></th>\n",
       "      <th>total_spots</th>\n",
       "      <th>workers_required</th>\n",
       "    </tr>\n",
       "    <tr>\n",
       "      <th>area_id</th>\n",
       "      <th></th>\n",
       "      <th></th>\n",
       "    </tr>\n",
       "  </thead>\n",
       "  <tbody>\n",
       "    <tr>\n",
       "      <th>3681.0</th>\n",
       "      <td>0</td>\n",
       "      <td>1</td>\n",
       "    </tr>\n",
       "    <tr>\n",
       "      <th>3715.0</th>\n",
       "      <td>0</td>\n",
       "      <td>1</td>\n",
       "    </tr>\n",
       "    <tr>\n",
       "      <th>19794.0</th>\n",
       "      <td>0</td>\n",
       "      <td>1</td>\n",
       "    </tr>\n",
       "    <tr>\n",
       "      <th>19948.0</th>\n",
       "      <td>0</td>\n",
       "      <td>1</td>\n",
       "    </tr>\n",
       "    <tr>\n",
       "      <th>19982.0</th>\n",
       "      <td>0</td>\n",
       "      <td>1</td>\n",
       "    </tr>\n",
       "  </tbody>\n",
       "</table>\n",
       "</div>"
      ],
      "text/plain": [
       "         total_spots  workers_required\n",
       "area_id                               \n",
       "3681.0             0                 1\n",
       "3715.0             0                 1\n",
       "19794.0            0                 1\n",
       "19948.0            0                 1\n",
       "19982.0            0                 1"
      ]
     },
     "execution_count": 29,
     "metadata": {},
     "output_type": "execute_result"
    }
   ],
   "source": [
    "dfques2sort.head()"
   ]
  },
  {
   "cell_type": "code",
   "execution_count": 30,
   "metadata": {},
   "outputs": [
    {
     "data": {
      "text/html": [
       "<div>\n",
       "<style scoped>\n",
       "    .dataframe tbody tr th:only-of-type {\n",
       "        vertical-align: middle;\n",
       "    }\n",
       "\n",
       "    .dataframe tbody tr th {\n",
       "        vertical-align: top;\n",
       "    }\n",
       "\n",
       "    .dataframe thead th {\n",
       "        text-align: right;\n",
       "    }\n",
       "</style>\n",
       "<table border=\"1\" class=\"dataframe\">\n",
       "  <thead>\n",
       "    <tr style=\"text-align: right;\">\n",
       "      <th></th>\n",
       "      <th>total_spots</th>\n",
       "      <th>workers_required</th>\n",
       "    </tr>\n",
       "    <tr>\n",
       "      <th>area_id</th>\n",
       "      <th></th>\n",
       "      <th></th>\n",
       "    </tr>\n",
       "  </thead>\n",
       "  <tbody>\n",
       "    <tr>\n",
       "      <th>24992.0</th>\n",
       "      <td>660</td>\n",
       "      <td>81</td>\n",
       "    </tr>\n",
       "    <tr>\n",
       "      <th>3730.0</th>\n",
       "      <td>670</td>\n",
       "      <td>559</td>\n",
       "    </tr>\n",
       "    <tr>\n",
       "      <th>23647.0</th>\n",
       "      <td>717</td>\n",
       "      <td>376</td>\n",
       "    </tr>\n",
       "    <tr>\n",
       "      <th>3774.0</th>\n",
       "      <td>881</td>\n",
       "      <td>854</td>\n",
       "    </tr>\n",
       "    <tr>\n",
       "      <th>23978.0</th>\n",
       "      <td>1233</td>\n",
       "      <td>153</td>\n",
       "    </tr>\n",
       "  </tbody>\n",
       "</table>\n",
       "</div>"
      ],
      "text/plain": [
       "         total_spots  workers_required\n",
       "area_id                               \n",
       "24992.0          660                81\n",
       "3730.0           670               559\n",
       "23647.0          717               376\n",
       "3774.0           881               854\n",
       "23978.0         1233               153"
      ]
     },
     "execution_count": 30,
     "metadata": {},
     "output_type": "execute_result"
    }
   ],
   "source": [
    "dfques2sort.tail()"
   ]
  },
  {
   "cell_type": "code",
   "execution_count": 31,
   "metadata": {
    "scrolled": false
   },
   "outputs": [
    {
     "data": {
      "image/png": "[encoded data removed]",
      "text/plain": [
       "<Figure size 576x360 with 1 Axes>"
      ]
     },
     "metadata": {
      "needs_background": "light"
     },
     "output_type": "display_data"
    }
   ],
   "source": [
    "dfques3a = pd.concat([df1ques3a,df2ques3a],axis = 1 )\n",
    "dfques3a.plot.bar(title='Number of Shifts vs Day', figsize=(8,5))\n",
    "plt.tight_layout()\n",
    "plt.savefig('Number of Shifts vs Day.pdf', dpi=150)\n",
    "plt.show()"
   ]
  },
  {
   "cell_type": "code",
   "execution_count": 32,
   "metadata": {
    "scrolled": false
   },
   "outputs": [
    {
     "data": {
      "image/png": "[encoded data removed]",
      "text/plain": [
       "<Figure size 576x360 with 1 Axes>"
      ]
     },
     "metadata": {
      "needs_background": "light"
     },
     "output_type": "display_data"
    }
   ],
   "source": [
    "dfques3b = pd.concat([df1ques3b,df2ques3b],axis = 1 )\n",
    "dfques3b.plot.bar(title='Number of Shifts vs Month', figsize=(8,5))\n",
    "plt.tight_layout()\n",
    "plt.savefig('Number of Shifts vs Month.pdf', dpi=150)\n",
    "plt.show()"
   ]
  },
  {
   "cell_type": "code",
   "execution_count": 33,
   "metadata": {
    "scrolled": false
   },
   "outputs": [
    {
     "data": {
      "image/png": "[encoded data removed]",
      "text/plain": [
       "<Figure size 576x360 with 1 Axes>"
      ]
     },
     "metadata": {
      "needs_background": "light"
     },
     "output_type": "display_data"
    }
   ],
   "source": [
    "dfques3c = pd.concat([df1ques3c,df2ques3c],axis = 1 )\n",
    "dfques3c.plot.bar(title='Number of Shifts vs Year', figsize=(8,5))\n",
    "plt.tight_layout()\n",
    "plt.savefig('Number of Shifts vs Year.pdf', dpi=150)\n",
    "plt.show()"
   ]
  },
  {
   "cell_type": "code",
   "execution_count": 34,
   "metadata": {
    "scrolled": false
   },
   "outputs": [
    {
     "data": {
      "image/png": "[encoded data removed]",
      "text/plain": [
       "<Figure size 576x360 with 1 Axes>"
      ]
     },
     "metadata": {
      "needs_background": "light"
     },
     "output_type": "display_data"
    }
   ],
   "source": [
    "dfques3d = pd.concat([df1ques3d,df2ques3d],axis = 1 )\n",
    "dfques3d.plot.bar(title='Number of Shifts vs Hour of Day', figsize=(8,5))\n",
    "plt.tight_layout()\n",
    "plt.savefig('Number of Shifts vs Hour of day.pdf', dpi=150)\n",
    "plt.show()"
   ]
  },
  {
   "cell_type": "code",
   "execution_count": 35,
   "metadata": {},
   "outputs": [
    {
     "data": {
      "image/png": "[encoded data removed]",
      "text/plain": [
       "<Figure size 576x360 with 1 Axes>"
      ]
     },
     "metadata": {
      "needs_background": "light"
     },
     "output_type": "display_data"
    }
   ],
   "source": [
    "dfques3e = pd.concat([df1ques3e,df2ques3e],axis = 1 )\n",
    "dfques3e.plot.bar(title='Number of Shifts vs Day of Year', figsize=(8,5))\n",
    "plt.tight_layout()\n",
    "plt.savefig('Number of Shifts vs Day of Year.pdf', dpi=150)\n",
    "plt.show()"
   ]
  },
  {
   "cell_type": "code",
   "execution_count": 36,
   "metadata": {
    "scrolled": false
   },
   "outputs": [
    {
     "data": {
      "image/png": "[encoded data removed]",
      "text/plain": [
       "<Figure size 576x360 with 1 Axes>"
      ]
     },
     "metadata": {
      "needs_background": "light"
     },
     "output_type": "display_data"
    }
   ],
   "source": [
    "dfques3f = pd.concat([df1ques3f,df2ques3f],axis = 1 )\n",
    "dfques3f.plot.bar(title='Number of Shifts vs Week of Year', figsize=(8,5))\n",
    "plt.tight_layout()\n",
    "plt.savefig('Number of Shifts vs Week of Year.pdf', dpi=150)\n",
    "plt.show()"
   ]
  },
  {
   "cell_type": "markdown",
   "metadata": {},
   "source": [
    "### 6. Exporting required DataFrames"
   ]
  },
  {
   "cell_type": "code",
   "execution_count": 37,
   "metadata": {},
   "outputs": [],
   "source": [
    "df1.to_csv(r'df1.csv') #df1 is based on total_spots output"
   ]
  },
  {
   "cell_type": "code",
   "execution_count": 39,
   "metadata": {},
   "outputs": [
    {
     "ename": "UnicodeEncodeError",
     "evalue": "'ascii' codec can't encode character u'\\u2019' in position 4: ordinal not in range(128)",
     "output_type": "error",
     "traceback": [
      "\u001b[0;31m---------------------------------------------------------------------------\u001b[0m",
      "\u001b[0;31mUnicodeEncodeError\u001b[0m                        Traceback (most recent call last)",
      "\u001b[0;32m<ipython-input-39-67e2e475bda5>\u001b[0m in \u001b[0;36m<module>\u001b[0;34m()\u001b[0m\n\u001b[0;32m----> 1\u001b[0;31m \u001b[0mjobs_df\u001b[0m\u001b[0;34m.\u001b[0m\u001b[0mto_csv\u001b[0m\u001b[0;34m(\u001b[0m\u001b[0;34m'jobs_df.csv'\u001b[0m\u001b[0;34m)\u001b[0m\u001b[0;34m\u001b[0m\u001b[0m\n\u001b[0m",
      "\u001b[0;32m/anaconda2/lib/python2.7/site-packages/pandas/core/frame.pyc\u001b[0m in \u001b[0;36mto_csv\u001b[0;34m(self, path_or_buf, sep, na_rep, float_format, columns, header, index, index_label, mode, encoding, compression, quoting, quotechar, line_terminator, chunksize, tupleize_cols, date_format, doublequote, escapechar, decimal)\u001b[0m\n\u001b[1;32m   1743\u001b[0m                                  \u001b[0mdoublequote\u001b[0m\u001b[0;34m=\u001b[0m\u001b[0mdoublequote\u001b[0m\u001b[0;34m,\u001b[0m\u001b[0;34m\u001b[0m\u001b[0m\n\u001b[1;32m   1744\u001b[0m                                  escapechar=escapechar, decimal=decimal)\n\u001b[0;32m-> 1745\u001b[0;31m         \u001b[0mformatter\u001b[0m\u001b[0;34m.\u001b[0m\u001b[0msave\u001b[0m\u001b[0;34m(\u001b[0m\u001b[0;34m)\u001b[0m\u001b[0;34m\u001b[0m\u001b[0m\n\u001b[0m\u001b[1;32m   1746\u001b[0m \u001b[0;34m\u001b[0m\u001b[0m\n\u001b[1;32m   1747\u001b[0m         \u001b[0;32mif\u001b[0m \u001b[0mpath_or_buf\u001b[0m \u001b[0;32mis\u001b[0m \u001b[0mNone\u001b[0m\u001b[0;34m:\u001b[0m\u001b[0;34m\u001b[0m\u001b[0m\n",
      "\u001b[0;32m/anaconda2/lib/python2.7/site-packages/pandas/io/formats/csvs.pyc\u001b[0m in \u001b[0;36msave\u001b[0;34m(self)\u001b[0m\n\u001b[1;32m    169\u001b[0m                 \u001b[0mself\u001b[0m\u001b[0;34m.\u001b[0m\u001b[0mwriter\u001b[0m \u001b[0;34m=\u001b[0m \u001b[0mUnicodeWriter\u001b[0m\u001b[0;34m(\u001b[0m\u001b[0mf\u001b[0m\u001b[0;34m,\u001b[0m \u001b[0;34m**\u001b[0m\u001b[0mwriter_kwargs\u001b[0m\u001b[0;34m)\u001b[0m\u001b[0;34m\u001b[0m\u001b[0m\n\u001b[1;32m    170\u001b[0m \u001b[0;34m\u001b[0m\u001b[0m\n\u001b[0;32m--> 171\u001b[0;31m             \u001b[0mself\u001b[0m\u001b[0;34m.\u001b[0m\u001b[0m_save\u001b[0m\u001b[0;34m(\u001b[0m\u001b[0;34m)\u001b[0m\u001b[0;34m\u001b[0m\u001b[0m\n\u001b[0m\u001b[1;32m    172\u001b[0m \u001b[0;34m\u001b[0m\u001b[0m\n\u001b[1;32m    173\u001b[0m         \u001b[0;32mfinally\u001b[0m\u001b[0;34m:\u001b[0m\u001b[0;34m\u001b[0m\u001b[0m\n",
      "\u001b[0;32m/anaconda2/lib/python2.7/site-packages/pandas/io/formats/csvs.pyc\u001b[0m in \u001b[0;36m_save\u001b[0;34m(self)\u001b[0m\n\u001b[1;32m    284\u001b[0m                 \u001b[0;32mbreak\u001b[0m\u001b[0;34m\u001b[0m\u001b[0m\n\u001b[1;32m    285\u001b[0m \u001b[0;34m\u001b[0m\u001b[0m\n\u001b[0;32m--> 286\u001b[0;31m             \u001b[0mself\u001b[0m\u001b[0;34m.\u001b[0m\u001b[0m_save_chunk\u001b[0m\u001b[0;34m(\u001b[0m\u001b[0mstart_i\u001b[0m\u001b[0;34m,\u001b[0m \u001b[0mend_i\u001b[0m\u001b[0;34m)\u001b[0m\u001b[0;34m\u001b[0m\u001b[0m\n\u001b[0m\u001b[1;32m    287\u001b[0m \u001b[0;34m\u001b[0m\u001b[0m\n\u001b[1;32m    288\u001b[0m     \u001b[0;32mdef\u001b[0m \u001b[0m_save_chunk\u001b[0m\u001b[0;34m(\u001b[0m\u001b[0mself\u001b[0m\u001b[0;34m,\u001b[0m \u001b[0mstart_i\u001b[0m\u001b[0;34m,\u001b[0m \u001b[0mend_i\u001b[0m\u001b[0;34m)\u001b[0m\u001b[0;34m:\u001b[0m\u001b[0;34m\u001b[0m\u001b[0m\n",
      "\u001b[0;32m/anaconda2/lib/python2.7/site-packages/pandas/io/formats/csvs.pyc\u001b[0m in \u001b[0;36m_save_chunk\u001b[0;34m(self, start_i, end_i)\u001b[0m\n\u001b[1;32m    311\u001b[0m \u001b[0;34m\u001b[0m\u001b[0m\n\u001b[1;32m    312\u001b[0m         libwriters.write_csv_rows(self.data, ix, self.nlevels,\n\u001b[0;32m--> 313\u001b[0;31m                                   self.cols, self.writer)\n\u001b[0m",
      "\u001b[0;32mpandas/_libs/writers.pyx\u001b[0m in \u001b[0;36mpandas._libs.writers.write_csv_rows\u001b[0;34m()\u001b[0m\n",
      "\u001b[0;31mUnicodeEncodeError\u001b[0m: 'ascii' codec can't encode character u'\\u2019' in position 4: ordinal not in range(128)"
     ]
    }
   ],
   "source": [
    "jobs_df.to_csv('jobs_df.csv')"
   ]
  },
  {
   "cell_type": "code",
   "execution_count": 40,
   "metadata": {},
   "outputs": [],
   "source": [
    "df2.to_csv(r'df2.csv') #df2 is based on required_workers"
   ]
  },
  {
   "cell_type": "code",
   "execution_count": null,
   "metadata": {},
   "outputs": [],
   "source": []
  }
 ],
 "metadata": {
  "kernelspec": {
   "display_name": "Python 2",
   "language": "python",
   "name": "python2"
  },
  "language_info": {
   "codemirror_mode": {
    "name": "ipython",
    "version": 2
   },
   "file_extension": ".py",
   "mimetype": "text/x-python",
   "name": "python",
   "nbconvert_exporter": "python",
   "pygments_lexer": "ipython2",
   "version": "2.7.15"
  }
 },
 "nbformat": 4,
 "nbformat_minor": 2
}
